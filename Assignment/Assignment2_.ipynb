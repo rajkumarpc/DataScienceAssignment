{
 "cells": [
  {
   "cell_type": "markdown",
   "id": "edcc4f4c-3d68-4a49-ba66-5636a3f9cead",
   "metadata": {},
   "source": [
    "#### ASSIGNMENT 2"
   ]
  },
  {
   "cell_type": "markdown",
   "id": "faa42566-ea52-43ed-9f06-8ad6e956732a",
   "metadata": {},
   "source": [
    "Q1. How do you comment code in Python? What are the different types of comments?"
   ]
  },
  {
   "cell_type": "markdown",
   "id": "a041a9fe-dce4-4aa0-be77-7b1868683902",
   "metadata": {},
   "source": [
    "There are multiple approches to use comment in python.\n",
    "1.  Single line comment using hash # \n",
    "2.   Multi line comment using triple single quotation ''' \n",
    "    or using triple double quotation \"\"\" \n",
    "3.  Doc String are considered as comments also.\n",
    "    \n",
    "Example for Single line comment: \n",
    " # We're attending DATA SCIENCE MASTER 2.0 CLASS.\n",
    " \n",
    "Example for multiline comment using triple single quotation:\n",
    "''' Here we will learn Python, ML, STATISTICS, POWER BI, TABLEAU\n",
    "    AND MANY MORE '''\n",
    "\n",
    "Example for multiline comment using triple double quotation:\n",
    "\"\"\" We will acquire a lot of knowledge from very high skilled     experienced faculties\"\"\"\n",
    "\n",
    "Example of docstring:\n",
    "def addition_num(a, b):\n",
    "\t\"\"\" addition_num will take two arguments in a and b ,add them and return the result\"\"\"\n",
    "\treturn a*b\n",
    "\n",
    "print(addition_num.__doc__)\n",
    "\n"
   ]
  },
  {
   "cell_type": "code",
   "execution_count": null,
   "id": "552ca7a2-a337-4793-9d4e-10c6d780b5b7",
   "metadata": {},
   "outputs": [],
   "source": []
  },
  {
   "cell_type": "markdown",
   "id": "4a31936c-e475-40dd-859e-004849cc43c1",
   "metadata": {},
   "source": [
    "Q2. What are variables in Python? How do you declare and assign values to variables?"
   ]
  },
  {
   "cell_type": "markdown",
   "id": "5955ff21-1481-4128-a604-1b37fbe1b315",
   "metadata": {},
   "source": [
    "Variables are name of memory locations assigned  to represent values. It is used to store data.\n",
    "\n",
    "In Python language, variables are dynamically typed, so no need to declare explicitly.\n",
    "\n",
    "Example1: num = 123  # Here Python will interprete 123 as integer type.\n",
    "\n",
    "Example2: name = 'Raj' # Here Python will interprete Raj as string type.\n",
    "\n",
    "Example3: num2 =23.35 # Here Python will interprete 23.35 as Float type.\n"
   ]
  },
  {
   "cell_type": "code",
   "execution_count": null,
   "id": "12df9fe1-ab54-4d57-a9f6-ed018f3b18ed",
   "metadata": {},
   "outputs": [],
   "source": []
  },
  {
   "cell_type": "markdown",
   "id": "a6ec3b52-2228-46e3-96b2-5d9f7ecc471e",
   "metadata": {},
   "source": [
    "Q3. How do you convert one data type to another in Python?"
   ]
  },
  {
   "cell_type": "code",
   "execution_count": null,
   "id": "d94fe66f-3c17-488d-ae91-487edcd7ce7e",
   "metadata": {},
   "outputs": [],
   "source": [
    "# In Python, we have built in function to convert data type from one type to another type.\n",
    "Example: n = 55\n",
    "         n = float(55)\n",
    "         print(n) ## Result will be of float type i.e 55.0\n",
    "\n",
    "Example2: n=555\n",
    "          n=str(n)\n",
    "          print(n) ## Result will be of string type i.e \"555\"\n",
    "\n",
    "Example3: \n",
    "          \n",
    "data = [35,53,26,45,64,35,\"hello\", \"Data Science\"]\n",
    "data1 = str(data) # \"[35, 53, 26, 45, 64, 35, 'hello', 'Data Science']\"\n",
    "data2 = set(data) # {26, 35, 45, 53, 64, 'Data Science', 'hello'}\n",
    "data3 = list(data2) # [64, 35, 'Data Science', 45, 53, 'hello', 26]\n",
    "data4 = tuple(data)  # (35, 53, 26, 45, 64, 35, 'hello', 'Data Science')\n",
    "\n",
    "            \n",
    "          "
   ]
  },
  {
   "cell_type": "raw",
   "id": "1b5cfbd4-b3ba-4586-aae6-8b1ebc537f3e",
   "metadata": {},
   "source": []
  },
  {
   "cell_type": "markdown",
   "id": "2c507e5d-66ca-485c-aeff-cbbaecc0bd68",
   "metadata": {},
   "source": [
    "Q4. How do you write and execute a Python script from the command line?"
   ]
  },
  {
   "cell_type": "markdown",
   "id": "1780a090-9c85-4abf-9efb-c3b149c2d3a4",
   "metadata": {},
   "source": [
    " Need to write python program in a file that ends with .py  \n",
    "step 1-   In a text file  write code using default text editor or using any IDE of our choice.\n",
    "           example: print(\"We are learning Data Science\")\n",
    "step 2 - Save the file as per your choice followed by .py extension, here I'll give DataScience.py\n",
    "step 3- type cmd in search and open.\n",
    "step 4- then go to that directory where that DataScience.py file exists.\n",
    "step 5 - type : python DataScience.py\n",
    "step 6- Now, we can see the output  : We are learning Data Science \n",
    "           "
   ]
  },
  {
   "cell_type": "code",
   "execution_count": null,
   "id": "41c9db00-a93f-4619-b658-551fea7af5ab",
   "metadata": {},
   "outputs": [],
   "source": []
  },
  {
   "cell_type": "markdown",
   "id": "b44fb8b5-b5c5-4f52-a53f-203d63bce7f8",
   "metadata": {},
   "source": [
    "Q5. Given a list my_list = [1, 2, 3, 4, 5], write the code to slice the list and obtain the sub-list [2, 3]."
   ]
  },
  {
   "cell_type": "code",
   "execution_count": null,
   "id": "f3fb45f1-ecce-485b-bf28-420fc1cf6527",
   "metadata": {},
   "outputs": [],
   "source": [
    "my_list = [1, 2, 3, 4, 5]\n",
    "print(my_list[1:3])"
   ]
  },
  {
   "cell_type": "code",
   "execution_count": null,
   "id": "ae46c04e-c3dc-4130-a999-9b4224d94f6c",
   "metadata": {},
   "outputs": [],
   "source": []
  },
  {
   "cell_type": "markdown",
   "id": "6c8da725-3027-419d-8a88-78411d1db256",
   "metadata": {},
   "source": [
    "Q6. What is a complex number in mathematics, and how is it represented in Python?"
   ]
  },
  {
   "cell_type": "markdown",
   "id": "bba20639-38e3-4113-b85f-424894b4c542",
   "metadata": {},
   "source": [
    "In mathematics, Complex number is represented in the form a + bi , where \"a\" and \"b\" are real numbers, and \"i\" is the imaginary.\n",
    "In Python, we represent it in the form of a+bj, where \"a\" is the real number and \"b\" is the imaginary number. j is associated with \"b\" to represent it as imaginary."
   ]
  },
  {
   "cell_type": "code",
   "execution_count": 20,
   "id": "2469f02a-8d6f-4218-b622-399ac4bd8822",
   "metadata": {},
   "outputs": [
    {
     "name": "stdout",
     "output_type": "stream",
     "text": [
      "(4+5j)\n",
      "4.0\n",
      "5.0\n"
     ]
    }
   ],
   "source": [
    "# Example: \n",
    "i_num = 4+5j\n",
    "print(i_num)\n",
    "print(i_num.real)\n",
    "print(i_num.imag)"
   ]
  },
  {
   "cell_type": "code",
   "execution_count": null,
   "id": "9b50939a-a519-40c1-a85f-eaccca9e854b",
   "metadata": {},
   "outputs": [],
   "source": []
  },
  {
   "cell_type": "markdown",
   "id": "5efa76db-7dac-4008-bd59-5ba701105802",
   "metadata": {},
   "source": [
    "Q7. What is the correct way to declare a variable named age and assign the value 25 to it?"
   ]
  },
  {
   "cell_type": "markdown",
   "id": "024c97c9-3640-4970-a611-fb82026c12bc",
   "metadata": {},
   "source": [
    "To declare a variable we can give any name as per user convenience followed by assignement operator and then assign value to it.\n",
    "As per the above question,  we are using age as the variable name then assignment operator and then assign value 25 to it.\n",
    "Example : age = 25\n"
   ]
  },
  {
   "cell_type": "code",
   "execution_count": null,
   "id": "5cf32400-37e8-4d4f-8f7a-3dc6c4a46f68",
   "metadata": {},
   "outputs": [],
   "source": []
  },
  {
   "cell_type": "markdown",
   "id": "42abb9e1-f29e-44bb-83c7-d994dd416db4",
   "metadata": {},
   "source": [
    "Q8. Declare a variable named price and assign the value 9.99 to it. What data type does this variable\n",
    "belong to?"
   ]
  },
  {
   "cell_type": "code",
   "execution_count": 6,
   "id": "ab977da7-a070-4d91-9cf6-6149b712b504",
   "metadata": {},
   "outputs": [
    {
     "name": "stdout",
     "output_type": "stream",
     "text": [
      "<class 'float'>\n"
     ]
    }
   ],
   "source": [
    "price = 9.99\n",
    "# price belongs to float type.\n",
    "# we can also check by using type operator \n",
    "print(type(price))"
   ]
  },
  {
   "cell_type": "code",
   "execution_count": null,
   "id": "b3b3d263-26d3-4073-92b6-7449d434942a",
   "metadata": {},
   "outputs": [],
   "source": []
  },
  {
   "cell_type": "markdown",
   "id": "44dc04f4-1a63-4ce7-ac0b-00120c19d34b",
   "metadata": {},
   "source": [
    "Q9. Create a variable named name and assign your full name to it as a string. How would you print the\n",
    "value of this variable?"
   ]
  },
  {
   "cell_type": "code",
   "execution_count": 7,
   "id": "9c7b8caa-d183-431c-8206-131f1945bade",
   "metadata": {},
   "outputs": [
    {
     "name": "stdout",
     "output_type": "stream",
     "text": [
      "Raj Kumar Sahoo\n"
     ]
    }
   ],
   "source": [
    "name = \"Raj Kumar Sahoo\"\n",
    "# I would print the variable \"name\" using predefined print function by passing the variable \"name\"  as argument inside it.\n",
    "print(name)"
   ]
  },
  {
   "cell_type": "code",
   "execution_count": null,
   "id": "43e779d1-2fa1-4e76-ab2b-aee3216cf25d",
   "metadata": {},
   "outputs": [],
   "source": []
  },
  {
   "cell_type": "markdown",
   "id": "2e9025e0-36f4-439e-b79f-4fcc174f0a29",
   "metadata": {},
   "source": [
    "Q10. Given the string \"Hello, World!\", extract the substring \"World\"."
   ]
  },
  {
   "cell_type": "code",
   "execution_count": 21,
   "id": "6e3914ce-cf71-4e27-abb9-d2f5dded22e4",
   "metadata": {},
   "outputs": [
    {
     "name": "stdout",
     "output_type": "stream",
     "text": [
      "Hello, World!\n",
      "World\n",
      "World\n"
     ]
    }
   ],
   "source": [
    "str_name = \"Hello, World!\"\n",
    "print(str_name)\n",
    "print(str_name[7:12]) \n",
    "print(str_name[7:-1])"
   ]
  },
  {
   "cell_type": "code",
   "execution_count": null,
   "id": "bdbb860a-0aed-4808-858b-319728e65893",
   "metadata": {},
   "outputs": [],
   "source": []
  },
  {
   "cell_type": "markdown",
   "id": "b7250ded-c292-4f6b-916c-3e8a93b3a773",
   "metadata": {},
   "source": [
    "Q11. Create a variable named \"is_student\" and assign it a boolean value indicating whether you are\n",
    "currently a student or not."
   ]
  },
  {
   "cell_type": "code",
   "execution_count": 22,
   "id": "c70a51b1-99d5-4059-baaa-e16911b2f9ad",
   "metadata": {},
   "outputs": [
    {
     "name": "stdout",
     "output_type": "stream",
     "text": [
      "I'm a student\n"
     ]
    }
   ],
   "source": [
    "is_student = True\n",
    "if is_student == True:\n",
    "    print(\"I'm a student\")\n",
    "else:\n",
    "    print(\"I'm not a student\")"
   ]
  },
  {
   "cell_type": "code",
   "execution_count": null,
   "id": "7468f432-ed22-4f6d-a13b-2dcf10957a2c",
   "metadata": {},
   "outputs": [],
   "source": []
  }
 ],
 "metadata": {
  "kernelspec": {
   "display_name": "Python 3 (ipykernel)",
   "language": "python",
   "name": "python3"
  },
  "language_info": {
   "codemirror_mode": {
    "name": "ipython",
    "version": 3
   },
   "file_extension": ".py",
   "mimetype": "text/x-python",
   "name": "python",
   "nbconvert_exporter": "python",
   "pygments_lexer": "ipython3",
   "version": "3.10.8"
  }
 },
 "nbformat": 4,
 "nbformat_minor": 5
}
