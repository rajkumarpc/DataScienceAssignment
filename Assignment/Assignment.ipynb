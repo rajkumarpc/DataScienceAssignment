{
 "cells": [
  {
   "cell_type": "markdown",
   "id": "0924dca2-7f3a-4af5-975e-3e5ac9ce754c",
   "metadata": {},
   "source": [
    "Q1. Create one variable containing following type of data:\n",
    "(i) string\n",
    "(ii) list\n",
    "(iii) float\n",
    "(iv) tuple"
   ]
  },
  {
   "cell_type": "code",
   "execution_count": 27,
   "id": "bbd8978f-9794-41a8-81fe-57625e14534f",
   "metadata": {},
   "outputs": [],
   "source": [
    "all_type_data = [\"PW\", [\"DataScience\"], 5.55, (34, 35)]"
   ]
  },
  {
   "cell_type": "code",
   "execution_count": 28,
   "id": "7a55e4e5-f7f7-4d37-8a33-848c4be6ee08",
   "metadata": {},
   "outputs": [
    {
     "data": {
      "text/plain": [
       "['PW', ['DataScience'], 5.55, (34, 35)]"
      ]
     },
     "execution_count": 28,
     "metadata": {},
     "output_type": "execute_result"
    }
   ],
   "source": [
    "all_type_data"
   ]
  },
  {
   "cell_type": "code",
   "execution_count": null,
   "id": "c9e7bd4a-6121-48ff-9dcf-ec5a065be77c",
   "metadata": {},
   "outputs": [],
   "source": []
  },
  {
   "cell_type": "markdown",
   "id": "7952b803-c8f6-4480-8910-64ea5cf07bf9",
   "metadata": {},
   "source": [
    "Q2. Given are some following variables containing data:\n",
    "(i) var1 = ‘ ‘\n",
    "(ii) var2 = ‘[DS, ML , Python]’\n",
    "(iii) var3 = [ ‘DS’ , ’ML’ , ‘Python’ ]\n",
    "(iv) var4 = 1.\n",
    "What will be the data type of the above given variable."
   ]
  },
  {
   "cell_type": "raw",
   "id": "b9b07877-ca2b-49c6-adde-29d3f0b03a43",
   "metadata": {},
   "source": [
    "var1 = ' '    \n",
    "var2 = '[ DS , ML , Python]'   \n",
    "var3 = [ 'DS' , 'ML' , 'Python' ]  \n",
    "var4 = 1. \n"
   ]
  },
  {
   "cell_type": "code",
   "execution_count": null,
   "id": "34967ec2-036e-43f0-905e-4e292f124407",
   "metadata": {},
   "outputs": [],
   "source": [
    "var1 = ' '     #String\n",
    "var2 = '[ DS , ML , Python]'   # String\n",
    "var3 = [ 'DS' , 'ML' , 'Python' ]  # List\n",
    "var4 = 1. # Float"
   ]
  },
  {
   "cell_type": "code",
   "execution_count": null,
   "id": "ecf4adf0-ab86-4f0a-a834-5c07450303a9",
   "metadata": {},
   "outputs": [],
   "source": []
  },
  {
   "cell_type": "markdown",
   "id": "43fe48f0-99e6-44c9-94d2-de37f9c3f22b",
   "metadata": {},
   "source": [
    "Q3. Explain the use of the following operators using an example:\n",
    "(i) /\n",
    "(ii) %\n",
    "(iii) //\n",
    "(iv) **"
   ]
  },
  {
   "cell_type": "code",
   "execution_count": 19,
   "id": "e3d92adf-d489-4836-84d3-d88aa19d9965",
   "metadata": {},
   "outputs": [
    {
     "name": "stdout",
     "output_type": "stream",
     "text": [
      "13.75\n",
      "3\n",
      "13\n",
      "9150625\n"
     ]
    }
   ],
   "source": [
    "a= 55\n",
    "b = 4\n",
    "\n",
    "#(i) / Division\n",
    "data_i = a/b\n",
    "\n",
    "#(ii) % Modulus\n",
    "data_ii = a%b\n",
    "\n",
    "#(iii) // Floor Division\n",
    "data_iii = a//b\n",
    "\n",
    "#(iv) ** exponential\n",
    "data_iv = a**b\n",
    "\n",
    "print(data_i)\n",
    "print(data_ii)\n",
    "print(data_iii)\n",
    "print(data_iv)"
   ]
  },
  {
   "cell_type": "code",
   "execution_count": null,
   "id": "fb72141b-6065-4ea0-a7c0-a0f5a07cd21a",
   "metadata": {},
   "outputs": [],
   "source": []
  },
  {
   "cell_type": "markdown",
   "id": "43edec16-bc23-412b-bbfe-40b725aefd8d",
   "metadata": {},
   "source": [
    "Q4. Create a list of length 10 of your choice containing multiple types of data. Using for loop print the\n",
    "element and its data type."
   ]
  },
  {
   "cell_type": "code",
   "execution_count": 29,
   "id": "11be2ea5-c298-410c-b120-03c46b67f458",
   "metadata": {},
   "outputs": [
    {
     "name": "stdout",
     "output_type": "stream",
     "text": [
      "<class 'str'>\n",
      "<class 'bool'>\n",
      "<class 'str'>\n",
      "<class 'list'>\n",
      "<class 'float'>\n",
      "<class 'tuple'>\n",
      "<class 'int'>\n",
      "<class 'bool'>\n",
      "<class 'str'>\n",
      "<class 'str'>\n"
     ]
    }
   ],
   "source": [
    "all_type_data = ['Python',True,\"PWSKILLS\", [\"DataScience\"],5.55,(34,35),5005,False,'15','True']\n",
    "\n",
    "for i in range(0,len(all_type_data)):\n",
    "    print(type(all_type_data[i]))\n",
    "    "
   ]
  },
  {
   "cell_type": "code",
   "execution_count": null,
   "id": "142dd000-a3b5-4311-9fd0-e67d7893a9de",
   "metadata": {},
   "outputs": [],
   "source": []
  },
  {
   "cell_type": "markdown",
   "id": "7ac8cd7f-4207-4647-9c7d-5f39026d315b",
   "metadata": {},
   "source": [
    "Q5. Using a while loop, verify if the number A is purely divisible by number B and if so then how many\n",
    "times it can be divisible."
   ]
  },
  {
   "cell_type": "code",
   "execution_count": 33,
   "id": "7eb83677-fe81-4210-a017-6fae2f3ff6f7",
   "metadata": {},
   "outputs": [
    {
     "name": "stdout",
     "output_type": "stream",
     "text": [
      "2 times divisible\n"
     ]
    }
   ],
   "source": [
    "num1 = 100\n",
    "num2 = 5\n",
    "i = 0\n",
    "\n",
    "while num1 >= num2:\n",
    "    if num1 % num2 == 0:\n",
    "        i+=1\n",
    "        num1 = num1/num2\n",
    "        \n",
    "if i>0:\n",
    "    print(i,\"times divisible\")\n",
    "else:\n",
    "    print(\"Not divisible\")\n"
   ]
  },
  {
   "cell_type": "code",
   "execution_count": null,
   "id": "8f98418a-3f12-4dc4-9da8-34fe7678bc33",
   "metadata": {},
   "outputs": [],
   "source": []
  },
  {
   "cell_type": "markdown",
   "id": "742eb29c-74cd-4a39-bd97-f6706bfa17a7",
   "metadata": {},
   "source": [
    "Q6. Create a list containing 25 int type data. Using for loop and if-else condition print if the element is\n",
    "divisible by 3 or not."
   ]
  },
  {
   "cell_type": "code",
   "execution_count": 34,
   "id": "7e4d87b7-0df8-4860-9820-cb191761fedb",
   "metadata": {},
   "outputs": [
    {
     "name": "stdout",
     "output_type": "stream",
     "text": [
      "1 is not divisible by 3\n",
      "2 is not divisible by 3\n",
      "3 is divisible by 3\n",
      "4 is not divisible by 3\n",
      "5 is not divisible by 3\n",
      "6 is divisible by 3\n",
      "7 is not divisible by 3\n",
      "8 is not divisible by 3\n",
      "9 is divisible by 3\n",
      "10 is not divisible by 3\n",
      "11 is not divisible by 3\n",
      "12 is divisible by 3\n",
      "13 is not divisible by 3\n",
      "14 is not divisible by 3\n",
      "15 is divisible by 3\n",
      "16 is not divisible by 3\n",
      "17 is not divisible by 3\n",
      "18 is divisible by 3\n",
      "19 is not divisible by 3\n",
      "20 is not divisible by 3\n",
      "21 is divisible by 3\n",
      "22 is not divisible by 3\n",
      "23 is not divisible by 3\n",
      "24 is divisible by 3\n",
      "25 is not divisible by 3\n"
     ]
    }
   ],
   "source": [
    "a =list(range(1,26))\n",
    "for i in a:\n",
    "    if i % 3 == 0:\n",
    "        print(i,\"is divisible by 3\")\n",
    "    else:\n",
    "        print(i,\"is not divisible by 3\")"
   ]
  },
  {
   "cell_type": "code",
   "execution_count": null,
   "id": "b79c762d-37b7-454e-b626-33d1b55d4672",
   "metadata": {},
   "outputs": [],
   "source": []
  },
  {
   "cell_type": "code",
   "execution_count": null,
   "id": "3da0bfa0-35eb-42d6-bb9d-76ba81be4187",
   "metadata": {},
   "outputs": [],
   "source": [
    "Q7. What do you understand about mutable and immutable data types? Give examples for both showing\n",
    "this property."
   ]
  },
  {
   "cell_type": "code",
   "execution_count": 36,
   "id": "33fcba49-8317-4099-a1f1-3f9df2e482df",
   "metadata": {},
   "outputs": [
    {
     "name": "stdout",
     "output_type": "stream",
     "text": [
      "['Learn', 'Data Science', 2.0]\n"
     ]
    }
   ],
   "source": [
    "\n",
    "#Mutable is a property in Python Programming which basically means object of List, Tuple, string, Boolean value can be changed after the creation also.\n",
    "list_data = ['Learn', 'Data Science', 1.0]\n",
    "list_data[2] = 2.0\n",
    "print(list_data)\n",
    "\n",
    "#Immutable is a property in Python Programming which basically means object of List, Tuple, string, Boolean value can't be changed one's created.\n",
    "Data = 'Data Science'\n",
    "Data[0] = 'New'   # will give error"
   ]
  },
  {
   "cell_type": "code",
   "execution_count": null,
   "id": "a0c68a1d-8b34-44a8-91d8-14077fbc7152",
   "metadata": {},
   "outputs": [],
   "source": []
  }
 ],
 "metadata": {
  "kernelspec": {
   "display_name": "Python 3 (ipykernel)",
   "language": "python",
   "name": "python3"
  },
  "language_info": {
   "codemirror_mode": {
    "name": "ipython",
    "version": 3
   },
   "file_extension": ".py",
   "mimetype": "text/x-python",
   "name": "python",
   "nbconvert_exporter": "python",
   "pygments_lexer": "ipython3",
   "version": "3.10.8"
  }
 },
 "nbformat": 4,
 "nbformat_minor": 5
}
